{
 "cells": [
  {
   "cell_type": "code",
   "execution_count": 1,
   "metadata": {
    "_cell_guid": "b1076dfc-b9ad-4769-8c92-a6c4dae69d19",
    "_uuid": "8f2839f25d086af736a60e9eeb907d3b93b6e0e5",
    "execution": {
     "iopub.execute_input": "2023-04-30T04:40:27.156298Z",
     "iopub.status.busy": "2023-04-30T04:40:27.155867Z",
     "iopub.status.idle": "2023-04-30T04:40:27.166650Z",
     "shell.execute_reply": "2023-04-30T04:40:27.165464Z",
     "shell.execute_reply.started": "2023-04-30T04:40:27.156260Z"
    }
   },
   "outputs": [],
   "source": [
    "import numpy as np \n",
    "import pandas as pd \n",
    "\n",
    "\n",
    "import os\n",
    "for dirname, _, filenames in os.walk('/kaggle/input'):\n",
    "    for filename in filenames:\n",
    "        print(os.path.join(dirname, filename))"
   ]
  },
  {
   "cell_type": "code",
   "execution_count": 2,
   "metadata": {
    "execution": {
     "iopub.execute_input": "2023-04-30T04:40:27.169674Z",
     "iopub.status.busy": "2023-04-30T04:40:27.168956Z",
     "iopub.status.idle": "2023-04-30T04:40:27.651029Z",
     "shell.execute_reply": "2023-04-30T04:40:27.650015Z",
     "shell.execute_reply.started": "2023-04-30T04:40:27.169633Z"
    }
   },
   "outputs": [
    {
     "name": "stdout",
     "output_type": "stream",
     "text": [
      "               hotel  is_canceled  lead_time  arrival_date_year  \\\n",
      "0       Resort Hotel            0        342               2015   \n",
      "1       Resort Hotel            0        737               2015   \n",
      "2       Resort Hotel            0          7               2015   \n",
      "3       Resort Hotel            0         13               2015   \n",
      "4       Resort Hotel            0         14               2015   \n",
      "...              ...          ...        ...                ...   \n",
      "119385    City Hotel            0         23               2017   \n",
      "119386    City Hotel            0        102               2017   \n",
      "119387    City Hotel            0         34               2017   \n",
      "119388    City Hotel            0        109               2017   \n",
      "119389    City Hotel            0        205               2017   \n",
      "\n",
      "       arrival_date_month  arrival_date_week_number  \\\n",
      "0                    July                        27   \n",
      "1                    July                        27   \n",
      "2                    July                        27   \n",
      "3                    July                        27   \n",
      "4                    July                        27   \n",
      "...                   ...                       ...   \n",
      "119385             August                        35   \n",
      "119386             August                        35   \n",
      "119387             August                        35   \n",
      "119388             August                        35   \n",
      "119389             August                        35   \n",
      "\n",
      "        arrival_date_day_of_month  stays_in_weekend_nights  \\\n",
      "0                               1                        0   \n",
      "1                               1                        0   \n",
      "2                               1                        0   \n",
      "3                               1                        0   \n",
      "4                               1                        0   \n",
      "...                           ...                      ...   \n",
      "119385                         30                        2   \n",
      "119386                         31                        2   \n",
      "119387                         31                        2   \n",
      "119388                         31                        2   \n",
      "119389                         29                        2   \n",
      "\n",
      "        stays_in_week_nights  adults  ...  deposit_type  agent company  \\\n",
      "0                          0       2  ...    No Deposit    NaN     NaN   \n",
      "1                          0       2  ...    No Deposit    NaN     NaN   \n",
      "2                          1       1  ...    No Deposit    NaN     NaN   \n",
      "3                          1       1  ...    No Deposit  304.0     NaN   \n",
      "4                          2       2  ...    No Deposit  240.0     NaN   \n",
      "...                      ...     ...  ...           ...    ...     ...   \n",
      "119385                     5       2  ...    No Deposit  394.0     NaN   \n",
      "119386                     5       3  ...    No Deposit    9.0     NaN   \n",
      "119387                     5       2  ...    No Deposit    9.0     NaN   \n",
      "119388                     5       2  ...    No Deposit   89.0     NaN   \n",
      "119389                     7       2  ...    No Deposit    9.0     NaN   \n",
      "\n",
      "       days_in_waiting_list customer_type     adr  \\\n",
      "0                         0     Transient    0.00   \n",
      "1                         0     Transient    0.00   \n",
      "2                         0     Transient   75.00   \n",
      "3                         0     Transient   75.00   \n",
      "4                         0     Transient   98.00   \n",
      "...                     ...           ...     ...   \n",
      "119385                    0     Transient   96.14   \n",
      "119386                    0     Transient  225.43   \n",
      "119387                    0     Transient  157.71   \n",
      "119388                    0     Transient  104.40   \n",
      "119389                    0     Transient  151.20   \n",
      "\n",
      "        required_car_parking_spaces  total_of_special_requests  \\\n",
      "0                                 0                          0   \n",
      "1                                 0                          0   \n",
      "2                                 0                          0   \n",
      "3                                 0                          0   \n",
      "4                                 0                          1   \n",
      "...                             ...                        ...   \n",
      "119385                            0                          0   \n",
      "119386                            0                          2   \n",
      "119387                            0                          4   \n",
      "119388                            0                          0   \n",
      "119389                            0                          2   \n",
      "\n",
      "        reservation_status reservation_status_date  \n",
      "0                Check-Out              2015-07-01  \n",
      "1                Check-Out              2015-07-01  \n",
      "2                Check-Out              2015-07-02  \n",
      "3                Check-Out              2015-07-02  \n",
      "4                Check-Out              2015-07-03  \n",
      "...                    ...                     ...  \n",
      "119385           Check-Out              2017-09-06  \n",
      "119386           Check-Out              2017-09-07  \n",
      "119387           Check-Out              2017-09-07  \n",
      "119388           Check-Out              2017-09-07  \n",
      "119389           Check-Out              2017-09-07  \n",
      "\n",
      "[119390 rows x 32 columns]\n"
     ]
    }
   ],
   "source": [
    "hotel_df = pd.read_csv('hotel_bookings.csv')\n",
    "print(hotel_df)"
   ]
  },
  {
   "cell_type": "code",
   "execution_count": 3,
   "metadata": {
    "execution": {
     "iopub.execute_input": "2023-04-30T04:40:27.657483Z",
     "iopub.status.busy": "2023-04-30T04:40:27.655173Z",
     "iopub.status.idle": "2023-04-30T04:40:27.742474Z",
     "shell.execute_reply": "2023-04-30T04:40:27.741415Z",
     "shell.execute_reply.started": "2023-04-30T04:40:27.657438Z"
    }
   },
   "outputs": [
    {
     "name": "stdout",
     "output_type": "stream",
     "text": [
      "(119390, 32)\n",
      "hotel                                  0\n",
      "is_canceled                            0\n",
      "lead_time                              0\n",
      "arrival_date_year                      0\n",
      "arrival_date_month                     0\n",
      "arrival_date_week_number               0\n",
      "arrival_date_day_of_month              0\n",
      "stays_in_weekend_nights                0\n",
      "stays_in_week_nights                   0\n",
      "adults                                 0\n",
      "children                               4\n",
      "babies                                 0\n",
      "meal                                   0\n",
      "country                              488\n",
      "market_segment                         0\n",
      "distribution_channel                   0\n",
      "is_repeated_guest                      0\n",
      "previous_cancellations                 0\n",
      "previous_bookings_not_canceled         0\n",
      "reserved_room_type                     0\n",
      "assigned_room_type                     0\n",
      "booking_changes                        0\n",
      "deposit_type                           0\n",
      "agent                              16340\n",
      "company                           112593\n",
      "days_in_waiting_list                   0\n",
      "customer_type                          0\n",
      "adr                                    0\n",
      "required_car_parking_spaces            0\n",
      "total_of_special_requests              0\n",
      "reservation_status                     0\n",
      "reservation_status_date                0\n",
      "dtype: int64\n"
     ]
    }
   ],
   "source": [
    "print(hotel_df.shape)\n",
    "print(hotel_df.isna().sum())"
   ]
  },
  {
   "cell_type": "code",
   "execution_count": 4,
   "metadata": {
    "execution": {
     "iopub.execute_input": "2023-04-30T04:40:27.749640Z",
     "iopub.status.busy": "2023-04-30T04:40:27.747419Z",
     "iopub.status.idle": "2023-04-30T04:40:27.779596Z",
     "shell.execute_reply": "2023-04-30T04:40:27.778651Z",
     "shell.execute_reply.started": "2023-04-30T04:40:27.749595Z"
    }
   },
   "outputs": [
    {
     "name": "stdout",
     "output_type": "stream",
     "text": [
      "(119390, 31)\n"
     ]
    }
   ],
   "source": [
    "hotel_df=hotel_df.drop('company',axis=1)\n",
    "print(hotel_df.shape)"
   ]
  },
  {
   "cell_type": "code",
   "execution_count": 5,
   "metadata": {
    "execution": {
     "iopub.execute_input": "2023-04-30T04:41:42.555902Z",
     "iopub.status.busy": "2023-04-30T04:41:42.555442Z",
     "iopub.status.idle": "2023-04-30T04:41:42.644892Z",
     "shell.execute_reply": "2023-04-30T04:41:42.643960Z",
     "shell.execute_reply.started": "2023-04-30T04:41:42.555862Z"
    }
   },
   "outputs": [
    {
     "name": "stdout",
     "output_type": "stream",
     "text": [
      "hotel                                 0\n",
      "is_canceled                           0\n",
      "lead_time                             0\n",
      "arrival_date_year                     0\n",
      "arrival_date_month                    0\n",
      "arrival_date_week_number              0\n",
      "arrival_date_day_of_month             0\n",
      "stays_in_weekend_nights               0\n",
      "stays_in_week_nights                  0\n",
      "adults                                0\n",
      "children                              4\n",
      "babies                                0\n",
      "meal                                  0\n",
      "country                             488\n",
      "market_segment                        0\n",
      "distribution_channel                  0\n",
      "is_repeated_guest                     0\n",
      "previous_cancellations                0\n",
      "previous_bookings_not_canceled        0\n",
      "reserved_room_type                    0\n",
      "assigned_room_type                    0\n",
      "booking_changes                       0\n",
      "deposit_type                          0\n",
      "agent                             16340\n",
      "days_in_waiting_list                  0\n",
      "customer_type                         0\n",
      "adr                                   0\n",
      "required_car_parking_spaces           0\n",
      "total_of_special_requests             0\n",
      "reservation_status                    0\n",
      "reservation_status_date               0\n",
      "dtype: int64\n"
     ]
    }
   ],
   "source": [
    "print(hotel_df.isna().sum())"
   ]
  },
  {
   "cell_type": "code",
   "execution_count": 6,
   "metadata": {
    "execution": {
     "iopub.execute_input": "2023-04-30T04:44:39.761337Z",
     "iopub.status.busy": "2023-04-30T04:44:39.760926Z",
     "iopub.status.idle": "2023-04-30T04:44:39.927734Z",
     "shell.execute_reply": "2023-04-30T04:44:39.926611Z",
     "shell.execute_reply.started": "2023-04-30T04:44:39.761300Z"
    }
   },
   "outputs": [
    {
     "name": "stdout",
     "output_type": "stream",
     "text": [
      "hotel                             0\n",
      "is_canceled                       0\n",
      "lead_time                         0\n",
      "arrival_date_year                 0\n",
      "arrival_date_month                0\n",
      "arrival_date_week_number          0\n",
      "arrival_date_day_of_month         0\n",
      "stays_in_weekend_nights           0\n",
      "stays_in_week_nights              0\n",
      "adults                            0\n",
      "children                          0\n",
      "babies                            0\n",
      "meal                              0\n",
      "country                           0\n",
      "market_segment                    0\n",
      "distribution_channel              0\n",
      "is_repeated_guest                 0\n",
      "previous_cancellations            0\n",
      "previous_bookings_not_canceled    0\n",
      "reserved_room_type                0\n",
      "assigned_room_type                0\n",
      "booking_changes                   0\n",
      "deposit_type                      0\n",
      "agent                             0\n",
      "days_in_waiting_list              0\n",
      "customer_type                     0\n",
      "adr                               0\n",
      "required_car_parking_spaces       0\n",
      "total_of_special_requests         0\n",
      "reservation_status                0\n",
      "reservation_status_date           0\n",
      "dtype: int64\n",
      "(102894, 31)\n"
     ]
    }
   ],
   "source": [
    "hotel_df = hotel_df.dropna()\n",
    "print(hotel_df.isna().sum())\n",
    "print(hotel_df.shape)"
   ]
  },
  {
   "cell_type": "code",
   "execution_count": 7,
   "metadata": {
    "execution": {
     "iopub.execute_input": "2023-04-30T04:47:38.891621Z",
     "iopub.status.busy": "2023-04-30T04:47:38.891189Z",
     "iopub.status.idle": "2023-04-30T04:47:38.917585Z",
     "shell.execute_reply": "2023-04-30T04:47:38.916480Z",
     "shell.execute_reply.started": "2023-04-30T04:47:38.891583Z"
    }
   },
   "outputs": [
    {
     "name": "stdout",
     "output_type": "stream",
     "text": [
      "Check-Out    62733\n",
      "Canceled     39158\n",
      "No-Show       1003\n",
      "Name: reservation_status, dtype: int64\n"
     ]
    }
   ],
   "source": [
    "print(hotel_df['reservation_status'].value_counts())"
   ]
  },
  {
   "cell_type": "code",
   "execution_count": 8,
   "metadata": {},
   "outputs": [],
   "source": [
    "hotel_df = hotel_df.drop(['reservation_status','reservation_status_date'], axis=1)"
   ]
  },
  {
   "cell_type": "code",
   "execution_count": 9,
   "metadata": {
    "execution": {
     "iopub.execute_input": "2023-04-30T04:50:34.891050Z",
     "iopub.status.busy": "2023-04-30T04:50:34.890155Z",
     "iopub.status.idle": "2023-04-30T04:50:34.900450Z",
     "shell.execute_reply": "2023-04-30T04:50:34.899434Z",
     "shell.execute_reply.started": "2023-04-30T04:50:34.891005Z"
    }
   },
   "outputs": [
    {
     "name": "stdout",
     "output_type": "stream",
     "text": [
      "Index(['hotel', 'is_canceled', 'lead_time', 'arrival_date_year',\n",
      "       'arrival_date_month', 'arrival_date_week_number',\n",
      "       'arrival_date_day_of_month', 'stays_in_weekend_nights',\n",
      "       'stays_in_week_nights', 'adults', 'children', 'babies', 'meal',\n",
      "       'country', 'market_segment', 'distribution_channel',\n",
      "       'is_repeated_guest', 'previous_cancellations',\n",
      "       'previous_bookings_not_canceled', 'reserved_room_type',\n",
      "       'assigned_room_type', 'booking_changes', 'deposit_type', 'agent',\n",
      "       'days_in_waiting_list', 'customer_type', 'adr',\n",
      "       'required_car_parking_spaces', 'total_of_special_requests'],\n",
      "      dtype='object')\n"
     ]
    }
   ],
   "source": [
    "print(hotel_df.columns)"
   ]
  },
  {
   "cell_type": "code",
   "execution_count": 10,
   "metadata": {
    "execution": {
     "iopub.execute_input": "2023-04-30T04:52:24.336909Z",
     "iopub.status.busy": "2023-04-30T04:52:24.336461Z",
     "iopub.status.idle": "2023-04-30T04:52:24.351212Z",
     "shell.execute_reply": "2023-04-30T04:52:24.349907Z",
     "shell.execute_reply.started": "2023-04-30T04:52:24.336857Z"
    }
   },
   "outputs": [
    {
     "name": "stdout",
     "output_type": "stream",
     "text": [
      "0    62733\n",
      "1    40161\n",
      "Name: is_canceled, dtype: int64\n"
     ]
    }
   ],
   "source": [
    "print(hotel_df['is_canceled'].value_counts())"
   ]
  },
  {
   "cell_type": "code",
   "execution_count": 11,
   "metadata": {},
   "outputs": [
    {
     "data": {
      "text/plain": [
       "<AxesSubplot:xlabel='is_canceled', ylabel='Count'>"
      ]
     },
     "execution_count": 11,
     "metadata": {},
     "output_type": "execute_result"
    },
    {
     "data": {
      "image/png": "[encoded data removed]",
      "text/plain": [
       "<Figure size 432x288 with 1 Axes>"
      ]
     },
     "metadata": {
      "needs_background": "light"
     },
     "output_type": "display_data"
    }
   ],
   "source": [
    "import seaborn as sns\n",
    "sns.histplot(hotel_df['is_canceled'])"
   ]
  },
  {
   "cell_type": "code",
   "execution_count": 25,
   "metadata": {},
   "outputs": [],
   "source": [
    "#target value is is_canceled from which we have to predict whether the customer will going to cancel the hotel booking or not\n",
    "X = hotel_df.drop('is_canceled', axis=1)\n",
    "y = hotel_df['is_canceled'].copy()"
   ]
  },
  {
   "cell_type": "code",
   "execution_count": 13,
   "metadata": {},
   "outputs": [
    {
     "name": "stdout",
     "output_type": "stream",
     "text": [
      "(102894, 28)\n"
     ]
    }
   ],
   "source": [
    "print(X.shape)"
   ]
  },
  {
   "cell_type": "code",
   "execution_count": 14,
   "metadata": {},
   "outputs": [
    {
     "name": "stdout",
     "output_type": "stream",
     "text": [
      "(102894,)\n"
     ]
    }
   ],
   "source": [
    "print(y.shape)"
   ]
  },
  {
   "cell_type": "code",
   "execution_count": 15,
   "metadata": {},
   "outputs": [],
   "source": [
    "from sklearn.tree import DecisionTreeClassifier\n",
    "decision_tree = DecisionTreeClassifier(criterion = 'gini',max_depth=290)"
   ]
  },
  {
   "cell_type": "code",
   "execution_count": 16,
   "metadata": {},
   "outputs": [],
   "source": [
    "from sklearn.preprocessing import OrdinalEncoder\n",
    "numeric_cols = hotel_df.select_dtypes(include=np.number).columns.tolist()\n",
    "object_cols = list(set(hotel_df.columns) - set(numeric_cols))\n",
    "enc = OrdinalEncoder()\n",
    "enc.fit(hotel_df[object_cols])\n",
    "hotel_df[object_cols] = enc.fit_transform(hotel_df[object_cols])"
   ]
  },
  {
   "cell_type": "code",
   "execution_count": 17,
   "metadata": {},
   "outputs": [],
   "source": [
    "from sklearn.model_selection import StratifiedKFold\n",
    "\n",
    "skf = StratifiedKFold(n_splits=5, shuffle=True, random_state=1)\n",
    "dt_acc = []\n",
    "for train_index, test_index in skf.split(X, y):\n",
    "    train = hotel_df.iloc[train_index,:]\n",
    "    test = hotel_df.iloc[test_index,:]\n",
    "    X_train = train.drop('is_canceled', axis=1)\n",
    "    y_train = train['is_canceled'].copy()\n",
    "    X_test = test.drop('is_canceled', axis=1)\n",
    "    y_test = test['is_canceled'].copy()\n",
    "    decision_tree.fit(X_train, y_train)\n",
    "    dt_acc.append(decision_tree.score(X_test, y_test))\n",
    "  "
   ]
  },
  {
   "cell_type": "code",
   "execution_count": 18,
   "metadata": {},
   "outputs": [
    {
     "name": "stdout",
     "output_type": "stream",
     "text": [
      "[0.8465911851887847, 0.8465425919626804, 0.8498955245638758, 0.8526167452257155, 0.8524152006997765]\n"
     ]
    }
   ],
   "source": [
    "print(dt_acc)"
   ]
  },
  {
   "cell_type": "code",
   "execution_count": null,
   "metadata": {},
   "outputs": [],
   "source": []
  },
  {
   "cell_type": "code",
   "execution_count": 19,
   "metadata": {},
   "outputs": [],
   "source": [
    "decision_tree_entropy = DecisionTreeClassifier(criterion = 'entropy',max_depth=290)"
   ]
  },
  {
   "cell_type": "code",
   "execution_count": 20,
   "metadata": {},
   "outputs": [],
   "source": [
    "from sklearn.model_selection import StratifiedKFold\n",
    "\n",
    "skf = StratifiedKFold(n_splits=5, shuffle=True, random_state=1)\n",
    "dt_acc_entropy = []\n",
    "for train_index, test_index in skf.split(X, y):\n",
    "    train = hotel_df.iloc[train_index,:]\n",
    "    test = hotel_df.iloc[test_index,:]\n",
    "    X_train = train.drop('is_canceled', axis=1)\n",
    "    y_train = train['is_canceled'].copy()\n",
    "    X_test = test.drop('is_canceled', axis=1)\n",
    "    y_test = test['is_canceled'].copy()\n",
    "    decision_tree_entropy.fit(X_train, y_train)\n",
    "    dt_acc_entropy.append(decision_tree.score(X_test, y_test))\n",
    "  "
   ]
  },
  {
   "cell_type": "code",
   "execution_count": 21,
   "metadata": {},
   "outputs": [
    {
     "name": "stdout",
     "output_type": "stream",
     "text": [
      "[0.9963069148160746, 0.9963069148160746, 0.9959181690072404, 0.9960639486855533, 0.8524152006997765]\n"
     ]
    }
   ],
   "source": [
    "print(dt_acc_entropy)"
   ]
  },
  {
   "cell_type": "code",
   "execution_count": 22,
   "metadata": {},
   "outputs": [
    {
     "name": "stdout",
     "output_type": "stream",
     "text": [
      "Mean Gini DT accuracy = 0.8496122495281666\n"
     ]
    }
   ],
   "source": [
    "print(\"Mean Gini DT accuracy = \"+str(np.mean(dt_acc)))"
   ]
  },
  {
   "cell_type": "code",
   "execution_count": 23,
   "metadata": {},
   "outputs": [
    {
     "name": "stdout",
     "output_type": "stream",
     "text": [
      "Mean Entropy DT accuracy = 0.9674022296049438\n"
     ]
    }
   ],
   "source": [
    "print(\"Mean Entropy DT accuracy = \"+str(np.mean(dt_acc_entropy)))"
   ]
  },
  {
   "cell_type": "code",
   "execution_count": 24,
   "metadata": {},
   "outputs": [],
   "source": [
    "### So Entropy performs better than GINI"
   ]
  }
 ],
 "metadata": {
  "kernelspec": {
   "display_name": "Python 3 (ipykernel)",
   "language": "python",
   "name": "python3"
  },
  "language_info": {
   "codemirror_mode": {
    "name": "ipython",
    "version": 3
   },
   "file_extension": ".py",
   "mimetype": "text/x-python",
   "name": "python",
   "nbconvert_exporter": "python",
   "pygments_lexer": "ipython3",
   "version": "3.9.12"
  }
 },
 "nbformat": 4,
 "nbformat_minor": 4
}
